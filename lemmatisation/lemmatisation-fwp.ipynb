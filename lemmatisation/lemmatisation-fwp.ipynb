{
 "cells": [
  {
   "cell_type": "markdown",
   "metadata": {},
   "source": [
    "# Lemmatisation with spaCy"
   ]
  },
  {
   "cell_type": "markdown",
   "metadata": {},
   "source": [
    "Code taken from Sanja Sarić, see https://github.com/SanjaSaric/HSA-Topics/blob/master/Lemmatisierung.ipynb."
   ]
  },
  {
   "cell_type": "code",
   "execution_count": 15,
   "metadata": {},
   "outputs": [],
   "source": [
    "import warnings\n",
    "warnings.filterwarnings('ignore')\n",
    "from cophi_toolbox import preprocessing\n",
    "import metadata_toolbox.utils as metadata\n",
    "import pandas as pd\n",
    "from pathlib import Path"
   ]
  },
  {
   "cell_type": "markdown",
   "metadata": {},
   "source": [
    "## Load and read data"
   ]
  },
  {
   "cell_type": "code",
   "execution_count": 16,
   "metadata": {},
   "outputs": [],
   "source": [
    "data = 'C:/Users/elisa/DH-MA/data/final'\n",
    "path_to_corpus = Path(data, 'fwp-clean-spellcheck') # Create backup first since data will be overwritten\n",
    "pattern = '{state}_{vol_no}'\n",
    "meta = pd.concat([metadata.fname2metadata(str(path), pattern=pattern) for path in path_to_corpus.glob('*.txt')])"
   ]
  },
  {
   "cell_type": "code",
   "execution_count": 17,
   "metadata": {},
   "outputs": [
    {
     "data": {
      "text/html": [
       "<div>\n",
       "<style scoped>\n",
       "    .dataframe tbody tr th:only-of-type {\n",
       "        vertical-align: middle;\n",
       "    }\n",
       "\n",
       "    .dataframe tbody tr th {\n",
       "        vertical-align: top;\n",
       "    }\n",
       "\n",
       "    .dataframe thead th {\n",
       "        text-align: right;\n",
       "    }\n",
       "</style>\n",
       "<table border=\"1\" class=\"dataframe\">\n",
       "  <thead>\n",
       "    <tr style=\"text-align: right;\">\n",
       "      <th></th>\n",
       "      <th>state</th>\n",
       "      <th>vol_no</th>\n",
       "    </tr>\n",
       "  </thead>\n",
       "  <tbody>\n",
       "    <tr>\n",
       "      <th>C:\\Users\\elisa\\DH-MA\\data\\final\\fwp-clean-spellcheck\\alabama_1.txt</th>\n",
       "      <td>alabama</td>\n",
       "      <td>1</td>\n",
       "    </tr>\n",
       "    <tr>\n",
       "      <th>C:\\Users\\elisa\\DH-MA\\data\\final\\fwp-clean-spellcheck\\arkansas_1.txt</th>\n",
       "      <td>arkansas</td>\n",
       "      <td>1</td>\n",
       "    </tr>\n",
       "    <tr>\n",
       "      <th>C:\\Users\\elisa\\DH-MA\\data\\final\\fwp-clean-spellcheck\\arkansas_2.txt</th>\n",
       "      <td>arkansas</td>\n",
       "      <td>2</td>\n",
       "    </tr>\n",
       "    <tr>\n",
       "      <th>C:\\Users\\elisa\\DH-MA\\data\\final\\fwp-clean-spellcheck\\arkansas_3.txt</th>\n",
       "      <td>arkansas</td>\n",
       "      <td>3</td>\n",
       "    </tr>\n",
       "    <tr>\n",
       "      <th>C:\\Users\\elisa\\DH-MA\\data\\final\\fwp-clean-spellcheck\\arkansas_4.txt</th>\n",
       "      <td>arkansas</td>\n",
       "      <td>4</td>\n",
       "    </tr>\n",
       "    <tr>\n",
       "      <th>C:\\Users\\elisa\\DH-MA\\data\\final\\fwp-clean-spellcheck\\arkansas_5.txt</th>\n",
       "      <td>arkansas</td>\n",
       "      <td>5</td>\n",
       "    </tr>\n",
       "    <tr>\n",
       "      <th>C:\\Users\\elisa\\DH-MA\\data\\final\\fwp-clean-spellcheck\\arkansas_6.txt</th>\n",
       "      <td>arkansas</td>\n",
       "      <td>6</td>\n",
       "    </tr>\n",
       "    <tr>\n",
       "      <th>C:\\Users\\elisa\\DH-MA\\data\\final\\fwp-clean-spellcheck\\arkansas_7.txt</th>\n",
       "      <td>arkansas</td>\n",
       "      <td>7</td>\n",
       "    </tr>\n",
       "    <tr>\n",
       "      <th>C:\\Users\\elisa\\DH-MA\\data\\final\\fwp-clean-spellcheck\\florida_1.txt</th>\n",
       "      <td>florida</td>\n",
       "      <td>1</td>\n",
       "    </tr>\n",
       "    <tr>\n",
       "      <th>C:\\Users\\elisa\\DH-MA\\data\\final\\fwp-clean-spellcheck\\georgia_1.txt</th>\n",
       "      <td>georgia</td>\n",
       "      <td>1</td>\n",
       "    </tr>\n",
       "  </tbody>\n",
       "</table>\n",
       "</div>"
      ],
      "text/plain": [
       "                                                       state vol_no\n",
       "C:\\Users\\elisa\\DH-MA\\data\\final\\fwp-clean-spell...   alabama      1\n",
       "C:\\Users\\elisa\\DH-MA\\data\\final\\fwp-clean-spell...  arkansas      1\n",
       "C:\\Users\\elisa\\DH-MA\\data\\final\\fwp-clean-spell...  arkansas      2\n",
       "C:\\Users\\elisa\\DH-MA\\data\\final\\fwp-clean-spell...  arkansas      3\n",
       "C:\\Users\\elisa\\DH-MA\\data\\final\\fwp-clean-spell...  arkansas      4\n",
       "C:\\Users\\elisa\\DH-MA\\data\\final\\fwp-clean-spell...  arkansas      5\n",
       "C:\\Users\\elisa\\DH-MA\\data\\final\\fwp-clean-spell...  arkansas      6\n",
       "C:\\Users\\elisa\\DH-MA\\data\\final\\fwp-clean-spell...  arkansas      7\n",
       "C:\\Users\\elisa\\DH-MA\\data\\final\\fwp-clean-spell...   florida      1\n",
       "C:\\Users\\elisa\\DH-MA\\data\\final\\fwp-clean-spell...   georgia      1"
      ]
     },
     "execution_count": 17,
     "metadata": {},
     "output_type": "execute_result"
    }
   ],
   "source": [
    "meta[:10]"
   ]
  },
  {
   "cell_type": "code",
   "execution_count": 18,
   "metadata": {},
   "outputs": [
    {
     "data": {
      "text/plain": [
       "33"
      ]
     },
     "execution_count": 18,
     "metadata": {},
     "output_type": "execute_result"
    }
   ],
   "source": [
    "len(meta)"
   ]
  },
  {
   "cell_type": "markdown",
   "metadata": {},
   "source": [
    "## Lemmatisation"
   ]
  },
  {
   "cell_type": "code",
   "execution_count": 19,
   "metadata": {},
   "outputs": [],
   "source": [
    "import spacy\n",
    "nlp = spacy.load('en_core_web_sm')"
   ]
  },
  {
   "cell_type": "markdown",
   "metadata": {},
   "source": [
    "### Lemmatise and save files"
   ]
  },
  {
   "cell_type": "code",
   "execution_count": 20,
   "metadata": {},
   "outputs": [],
   "source": [
    "for file in path_to_corpus.glob('*.txt'):\n",
    "    with open(file, encoding='utf-8') as f:\n",
    "        original = f.read()\n",
    "        lemmatized_object = nlp(original)\n",
    "        lemma_list = []\n",
    "        for lemma in lemmatized_object:\n",
    "            lemma_list.append(lemma.lemma_)\n",
    "        lemma_doc = ' '.join(lemma_list)\n",
    "    with open(file, 'w', encoding='utf-8') as f: # Attention: Files will be overwritten\n",
    "        f.write(lemma_doc)"
   ]
  },
  {
   "cell_type": "code",
   "execution_count": null,
   "metadata": {},
   "outputs": [],
   "source": []
  }
 ],
 "metadata": {
  "kernelspec": {
   "display_name": "Python 3 (ipykernel)",
   "language": "python",
   "name": "python3"
  },
  "language_info": {
   "codemirror_mode": {
    "name": "ipython",
    "version": 3
   },
   "file_extension": ".py",
   "mimetype": "text/x-python",
   "name": "python",
   "nbconvert_exporter": "python",
   "pygments_lexer": "ipython3",
   "version": "3.9.7"
  }
 },
 "nbformat": 4,
 "nbformat_minor": 2
}
