{
 "cells": [
  {
   "cell_type": "markdown",
   "metadata": {},
   "source": [
    "# Lemmatisation with spaCy"
   ]
  },
  {
   "cell_type": "markdown",
   "metadata": {},
   "source": [
    "Code taken from Sanja Sarić, see https://github.com/SanjaSaric/HSA-Topics/blob/master/Lemmatisierung.ipynb."
   ]
  },
  {
   "cell_type": "code",
   "execution_count": 20,
   "metadata": {},
   "outputs": [],
   "source": [
    "import warnings\n",
    "warnings.filterwarnings('ignore')\n",
    "from cophi_toolbox import preprocessing\n",
    "import metadata_toolbox.utils as metadata\n",
    "import pandas as pd\n",
    "from pathlib import Path"
   ]
  },
  {
   "cell_type": "markdown",
   "metadata": {},
   "source": [
    "## Load and read data"
   ]
  },
  {
   "cell_type": "code",
   "execution_count": 21,
   "metadata": {},
   "outputs": [],
   "source": [
    "data = 'C:/Users/elisa/DH-MA/data/final'\n",
    "path_to_corpus = Path(data, 'docsouth-clean') # Create backup first since data will be overwritten\n",
    "pattern = '{abbr}-{author}-{author2}'\n",
    "meta = pd.concat([metadata.fname2metadata(str(path), pattern=pattern) for path in path_to_corpus.glob('*.txt')])"
   ]
  },
  {
   "cell_type": "code",
   "execution_count": 22,
   "metadata": {},
   "outputs": [
    {
     "data": {
      "text/html": [
       "<div>\n",
       "<style scoped>\n",
       "    .dataframe tbody tr th:only-of-type {\n",
       "        vertical-align: middle;\n",
       "    }\n",
       "\n",
       "    .dataframe tbody tr th {\n",
       "        vertical-align: top;\n",
       "    }\n",
       "\n",
       "    .dataframe thead th {\n",
       "        text-align: right;\n",
       "    }\n",
       "</style>\n",
       "<table border=\"1\" class=\"dataframe\">\n",
       "  <thead>\n",
       "    <tr style=\"text-align: right;\">\n",
       "      <th></th>\n",
       "      <th>abbr</th>\n",
       "      <th>author</th>\n",
       "      <th>author2</th>\n",
       "    </tr>\n",
       "  </thead>\n",
       "  <tbody>\n",
       "    <tr>\n",
       "      <th>C:\\Users\\elisa\\DH-MA\\data\\final\\docsouth-clean\\church-hatcher-hatcher.txt</th>\n",
       "      <td>church</td>\n",
       "      <td>hatcher</td>\n",
       "      <td>hatcher</td>\n",
       "    </tr>\n",
       "    <tr>\n",
       "      <th>C:\\Users\\elisa\\DH-MA\\data\\final\\docsouth-clean\\fpn-ball-ball.txt</th>\n",
       "      <td>fpn</td>\n",
       "      <td>ball</td>\n",
       "      <td>ball</td>\n",
       "    </tr>\n",
       "    <tr>\n",
       "      <th>C:\\Users\\elisa\\DH-MA\\data\\final\\docsouth-clean\\fpn-brownw-brown.txt</th>\n",
       "      <td>fpn</td>\n",
       "      <td>brownw</td>\n",
       "      <td>brown</td>\n",
       "    </tr>\n",
       "    <tr>\n",
       "      <th>C:\\Users\\elisa\\DH-MA\\data\\final\\docsouth-clean\\fpn-bruce-bruce.txt</th>\n",
       "      <td>fpn</td>\n",
       "      <td>bruce</td>\n",
       "      <td>bruce</td>\n",
       "    </tr>\n",
       "    <tr>\n",
       "      <th>C:\\Users\\elisa\\DH-MA\\data\\final\\docsouth-clean\\fpn-burton-burton.txt</th>\n",
       "      <td>fpn</td>\n",
       "      <td>burton</td>\n",
       "      <td>burton</td>\n",
       "    </tr>\n",
       "    <tr>\n",
       "      <th>C:\\Users\\elisa\\DH-MA\\data\\final\\docsouth-clean\\fpn-burtont-burton.txt</th>\n",
       "      <td>fpn</td>\n",
       "      <td>burtont</td>\n",
       "      <td>burton</td>\n",
       "    </tr>\n",
       "    <tr>\n",
       "      <th>C:\\Users\\elisa\\DH-MA\\data\\final\\docsouth-clean\\fpn-ferebee-ferebee.txt</th>\n",
       "      <td>fpn</td>\n",
       "      <td>ferebee</td>\n",
       "      <td>ferebee</td>\n",
       "    </tr>\n",
       "    <tr>\n",
       "      <th>C:\\Users\\elisa\\DH-MA\\data\\final\\docsouth-clean\\fpn-grandy-grandy.txt</th>\n",
       "      <td>fpn</td>\n",
       "      <td>grandy</td>\n",
       "      <td>grandy</td>\n",
       "    </tr>\n",
       "    <tr>\n",
       "      <th>C:\\Users\\elisa\\DH-MA\\data\\final\\docsouth-clean\\fpn-hortonlife-horton.txt</th>\n",
       "      <td>fpn</td>\n",
       "      <td>hortonlife</td>\n",
       "      <td>horton</td>\n",
       "    </tr>\n",
       "    <tr>\n",
       "      <th>C:\\Users\\elisa\\DH-MA\\data\\final\\docsouth-clean\\fpn-hortonpoem-hortonpoem.txt</th>\n",
       "      <td>fpn</td>\n",
       "      <td>hortonpoem</td>\n",
       "      <td>hortonpoem</td>\n",
       "    </tr>\n",
       "  </tbody>\n",
       "</table>\n",
       "</div>"
      ],
      "text/plain": [
       "                                                      abbr      author  \\\n",
       "C:\\Users\\elisa\\DH-MA\\data\\final\\docsouth-clean\\...  church     hatcher   \n",
       "C:\\Users\\elisa\\DH-MA\\data\\final\\docsouth-clean\\...     fpn        ball   \n",
       "C:\\Users\\elisa\\DH-MA\\data\\final\\docsouth-clean\\...     fpn      brownw   \n",
       "C:\\Users\\elisa\\DH-MA\\data\\final\\docsouth-clean\\...     fpn       bruce   \n",
       "C:\\Users\\elisa\\DH-MA\\data\\final\\docsouth-clean\\...     fpn      burton   \n",
       "C:\\Users\\elisa\\DH-MA\\data\\final\\docsouth-clean\\...     fpn     burtont   \n",
       "C:\\Users\\elisa\\DH-MA\\data\\final\\docsouth-clean\\...     fpn     ferebee   \n",
       "C:\\Users\\elisa\\DH-MA\\data\\final\\docsouth-clean\\...     fpn      grandy   \n",
       "C:\\Users\\elisa\\DH-MA\\data\\final\\docsouth-clean\\...     fpn  hortonlife   \n",
       "C:\\Users\\elisa\\DH-MA\\data\\final\\docsouth-clean\\...     fpn  hortonpoem   \n",
       "\n",
       "                                                       author2  \n",
       "C:\\Users\\elisa\\DH-MA\\data\\final\\docsouth-clean\\...     hatcher  \n",
       "C:\\Users\\elisa\\DH-MA\\data\\final\\docsouth-clean\\...        ball  \n",
       "C:\\Users\\elisa\\DH-MA\\data\\final\\docsouth-clean\\...       brown  \n",
       "C:\\Users\\elisa\\DH-MA\\data\\final\\docsouth-clean\\...       bruce  \n",
       "C:\\Users\\elisa\\DH-MA\\data\\final\\docsouth-clean\\...      burton  \n",
       "C:\\Users\\elisa\\DH-MA\\data\\final\\docsouth-clean\\...      burton  \n",
       "C:\\Users\\elisa\\DH-MA\\data\\final\\docsouth-clean\\...     ferebee  \n",
       "C:\\Users\\elisa\\DH-MA\\data\\final\\docsouth-clean\\...      grandy  \n",
       "C:\\Users\\elisa\\DH-MA\\data\\final\\docsouth-clean\\...      horton  \n",
       "C:\\Users\\elisa\\DH-MA\\data\\final\\docsouth-clean\\...  hortonpoem  "
      ]
     },
     "execution_count": 22,
     "metadata": {},
     "output_type": "execute_result"
    }
   ],
   "source": [
    "meta[:10]"
   ]
  },
  {
   "cell_type": "code",
   "execution_count": 23,
   "metadata": {},
   "outputs": [
    {
     "data": {
      "text/plain": [
       "278"
      ]
     },
     "execution_count": 23,
     "metadata": {},
     "output_type": "execute_result"
    }
   ],
   "source": [
    "len(meta)"
   ]
  },
  {
   "cell_type": "markdown",
   "metadata": {},
   "source": [
    "## Lemmatisation"
   ]
  },
  {
   "cell_type": "code",
   "execution_count": 24,
   "metadata": {},
   "outputs": [],
   "source": [
    "import spacy\n",
    "nlp = spacy.load('en_core_web_sm')"
   ]
  },
  {
   "cell_type": "code",
   "execution_count": 25,
   "metadata": {},
   "outputs": [],
   "source": [
    "# Increase the max_length limit\n",
    "nlp.max_length = 2000000 "
   ]
  },
  {
   "cell_type": "markdown",
   "metadata": {},
   "source": [
    "### Lemmatise and save files"
   ]
  },
  {
   "cell_type": "code",
   "execution_count": 26,
   "metadata": {},
   "outputs": [],
   "source": [
    "for file in path_to_corpus.glob('*.txt'):\n",
    "    with open(file, encoding='utf-8') as f:\n",
    "        original = f.read()\n",
    "        lemmatized_object = nlp(original)\n",
    "        lemma_list = []\n",
    "        for lemma in lemmatized_object:\n",
    "            lemma_list.append(lemma.lemma_)\n",
    "        lemma_doc = ' '.join(lemma_list)\n",
    "    with open(file, 'w', encoding='utf-8') as f: # Attention: Files will be overwritten\n",
    "        f.write(lemma_doc)"
   ]
  },
  {
   "cell_type": "code",
   "execution_count": null,
   "metadata": {},
   "outputs": [],
   "source": []
  }
 ],
 "metadata": {
  "kernelspec": {
   "display_name": "Python 3 (ipykernel)",
   "language": "python",
   "name": "python3"
  },
  "language_info": {
   "codemirror_mode": {
    "name": "ipython",
    "version": 3
   },
   "file_extension": ".py",
   "mimetype": "text/x-python",
   "name": "python",
   "nbconvert_exporter": "python",
   "pygments_lexer": "ipython3",
   "version": "3.9.7"
  }
 },
 "nbformat": 4,
 "nbformat_minor": 2
}
