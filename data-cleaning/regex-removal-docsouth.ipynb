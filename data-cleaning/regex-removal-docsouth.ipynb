{
 "cells": [
  {
   "cell_type": "code",
   "execution_count": null,
   "id": "86da7d6d",
   "metadata": {},
   "outputs": [],
   "source": [
    "import os\n",
    "import re\n",
    "import string"
   ]
  },
  {
   "cell_type": "code",
   "execution_count": null,
   "id": "045925f2",
   "metadata": {},
   "outputs": [],
   "source": [
    "def process_file(file_path):\n",
    "    with open(file_path, 'r', encoding='utf-8') as file:\n",
    "        content = file.read()\n",
    "\n",
    "    # Convert content to lowercase\n",
    "    content = content.lower()\n",
    "\n",
    "    # List of words/phrases to remove\n",
    "    words_to_remove = [\n",
    "        r\"illustrations\",\n",
    "        r\"contents\",\n",
    "        r\"introduction\",\n",
    "        r\"preface\",\n",
    "        r\"chapter\",\n",
    "        r\"index\",\n",
    "        r\"publishers\",\n",
    "        r\"advertisement\",\n",
    "        r\"part\",\n",
    "        r\"author\",\n",
    "        r\"editor\"\n",
    "    ]\n",
    "\n",
    "    # Remove words/phrases \n",
    "    for word in words_to_remove:\n",
    "        content = re.sub(rf'\\b{word}\\b', '', content, flags=re.IGNORECASE)\n",
    "\n",
    "    # Remove words/phrases inside brackets []\n",
    "    content = re.sub(r'\\[[^\\]]+\\]', '', content)\n",
    "\n",
    "    # Remove punctuation\n",
    "    punctuation_to_remove = string.punctuation + '“”‘’'\n",
    "    content = content.translate(str.maketrans('', '', punctuation_to_remove))\n",
    "\n",
    "    # Remove empty lines\n",
    "    content = '\\n'.join(line for line in content.splitlines() if line.strip() != '')\n",
    "\n",
    "    with open(file_path, 'w', encoding='utf-8') as file:\n",
    "        file.write(content)"
   ]
  },
  {
   "cell_type": "code",
   "execution_count": 4,
   "id": "fbfe860b",
   "metadata": {},
   "outputs": [],
   "source": [
    "def process_folder(folder_path):\n",
    "    for root, dirs, files in os.walk(folder_path):\n",
    "        for file_name in files:\n",
    "            if file_name.endswith('.txt'):  # Process only .txt files\n",
    "                file_path = os.path.join(root, file_name)\n",
    "                process_file(file_path)\n",
    "\n",
    "if __name__ == \"__main__\":\n",
    "    folder_to_process = \"docsouth-unedited\"  # folder path\n",
    "    process_folder(folder_to_process)"
   ]
  },
  {
   "cell_type": "code",
   "execution_count": null,
   "id": "03aefb84",
   "metadata": {},
   "outputs": [],
   "source": []
  }
 ],
 "metadata": {
  "kernelspec": {
   "display_name": "Python 3 (ipykernel)",
   "language": "python",
   "name": "python3"
  },
  "language_info": {
   "codemirror_mode": {
    "name": "ipython",
    "version": 3
   },
   "file_extension": ".py",
   "mimetype": "text/x-python",
   "name": "python",
   "nbconvert_exporter": "python",
   "pygments_lexer": "ipython3",
   "version": "3.9.7"
  }
 },
 "nbformat": 4,
 "nbformat_minor": 5
}
