{
 "cells": [
  {
   "cell_type": "code",
   "execution_count": null,
   "id": "e273a835",
   "metadata": {},
   "outputs": [],
   "source": [
    "import re\n",
    "import os\n",
    "import string"
   ]
  },
  {
   "cell_type": "code",
   "execution_count": null,
   "id": "eeb9ac50",
   "metadata": {},
   "outputs": [],
   "source": [
    "def convert_to_lowercase(file_path):\n",
    "    # Read the contents of the file\n",
    "    with open(file_path, 'r', encoding='utf-8') as file:\n",
    "        content = file.read()\n",
    "\n",
    "    # Convert the content to lowercase\n",
    "    content = content.lower()\n",
    "\n",
    "    # Write the updated content back to the file\n",
    "    with open(file_path, 'w', encoding='utf-8') as file:\n",
    "        file.write(content)"
   ]
  },
  {
   "cell_type": "code",
   "execution_count": null,
   "id": "e8723e22",
   "metadata": {},
   "outputs": [],
   "source": [
    "def remove_keywords_punctuation_empty_lines(file_path):\n",
    "    # Read the contents of the file\n",
    "    with open(file_path, 'r', encoding='utf-8') as file:\n",
    "        content = file.read()\n",
    "\n",
    "    # Define the list of words/phrases to remove\n",
    "    keywords = [\n",
    "        r\"\\bage\\b\",\n",
    "        r\"\\bdate stamp\\b\",\n",
    "        r\"\\bdistrict\\b\",\n",
    "        r\"\\bedited by\\b\",\n",
    "        r\"\\beditor\\b\",\n",
    "        r\"\\bfederal\\b\",\n",
    "        r\"\\billustration\\b\",\n",
    "        r\"\\binformation given by\\b\",\n",
    "        r\"\\binterview\\b\",\n",
    "        r\"\\binterviewed\\b\",\n",
    "        r\"\\binterviewer\\b\",\n",
    "        r\"\\bsubject\\b\",\n",
    "        r\"\\boccupation\\b\",\n",
    "        r\"\\bperson interviewed\\b\",\n",
    "        r\"\\bplace of residence\\b\",\n",
    "        r\"\\bproject\\b\",\n",
    "        r\"\\bstory\\b\",\n",
    "        r\"\\bwriters\\b\",\n",
    "        r\"\\bwritten by\\b\"\n",
    "    ]\n",
    "\n",
    "    # Remove the keywords from the content\n",
    "    for keyword in keywords:\n",
    "        content = re.sub(keyword, '', content, flags=re.IGNORECASE)\n",
    "\n",
    "    # Remove all punctuation\n",
    "    content = content.translate(str.maketrans('', '', string.punctuation + '“”‘’'))\n",
    "\n",
    "    # Remove empty lines\n",
    "    content = '\\n'.join(line for line in content.splitlines() if line.strip())\n",
    "\n",
    "    # Write the updated content back to the file\n",
    "    with open(file_path, 'w', encoding='utf-8') as file:\n",
    "        file.write(content)"
   ]
  },
  {
   "cell_type": "code",
   "execution_count": null,
   "id": "7c7a15dd",
   "metadata": {},
   "outputs": [],
   "source": [
    "# Specify the folder path containing the text files\n",
    "folder_path = 'fwp-unedited'"
   ]
  },
  {
   "cell_type": "code",
   "execution_count": 3,
   "id": "68d16e8f",
   "metadata": {},
   "outputs": [],
   "source": [
    "# Process each file in the folder\n",
    "for file_name in os.listdir(folder_path):\n",
    "    if file_name.endswith('.txt'):\n",
    "        file_path = os.path.join(folder_path, file_name)\n",
    "        convert_to_lowercase(file_path)\n",
    "        remove_keywords_punctuation_empty_lines(file_path)"
   ]
  }
 ],
 "metadata": {
  "kernelspec": {
   "display_name": "Python 3 (ipykernel)",
   "language": "python",
   "name": "python3"
  },
  "language_info": {
   "codemirror_mode": {
    "name": "ipython",
    "version": 3
   },
   "file_extension": ".py",
   "mimetype": "text/x-python",
   "name": "python",
   "nbconvert_exporter": "python",
   "pygments_lexer": "ipython3",
   "version": "3.9.7"
  }
 },
 "nbformat": 4,
 "nbformat_minor": 5
}
