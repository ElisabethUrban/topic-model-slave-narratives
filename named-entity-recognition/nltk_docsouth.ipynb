{
 "cells": [
  {
   "cell_type": "code",
   "execution_count": null,
   "id": "c3b94b0b",
   "metadata": {},
   "outputs": [],
   "source": [
    "import os\n",
    "import nltk\n",
    "from nltk import ne_chunk, pos_tag\n",
    "from nltk.tokenize import word_tokenize"
   ]
  },
  {
   "cell_type": "code",
   "execution_count": null,
   "id": "bb80c77e",
   "metadata": {},
   "outputs": [],
   "source": [
    "folder_path = 'docsouth-unedited'"
   ]
  },
  {
   "cell_type": "code",
   "execution_count": null,
   "id": "4ffbd0b1",
   "metadata": {},
   "outputs": [],
   "source": [
    "output_file = 'docsouth-ner.txt'"
   ]
  },
  {
   "cell_type": "code",
   "execution_count": null,
   "id": "ab61ef66",
   "metadata": {},
   "outputs": [],
   "source": [
    "distinct_persons = set() # Create set to only extract distinct person names"
   ]
  },
  {
   "cell_type": "code",
   "execution_count": null,
   "id": "d9471bcc",
   "metadata": {},
   "outputs": [],
   "source": [
    "# Open the output file in write mode\n",
    "with open(output_file, 'w', encoding=\"utf-8\") as file:\n",
    "    # Iterate through files in the folder\n",
    "    for filename in os.listdir(folder_path):\n",
    "        file_path = os.path.join(folder_path, filename)\n",
    "        \n",
    "        # Check if the path is a file\n",
    "        if os.path.isfile(file_path):\n",
    "            # Read the file\n",
    "            with open(file_path, 'r', encoding=\"utf-8\") as file_read:\n",
    "                text = file_read.read()\n",
    "            \n",
    "            # Tokenise the text\n",
    "            tokens = word_tokenize(text)\n",
    "            \n",
    "            # Perform part-of-speech tagging\n",
    "            tagged_words = pos_tag(tokens)\n",
    "            \n",
    "            # Perform named entity recognition\n",
    "            ner_result = ne_chunk(tagged_words)\n",
    "                    \n",
    "            # Write named entities to the output file\n",
    "            for entity in ner_result:\n",
    "                if isinstance(entity, nltk.tree.Tree) and entity.label() == 'PERSON':\n",
    "                    entity_text = ' '.join(c[0].lower() for c in entity.leaves())  # Convert to lowercase\n",
    "                    distinct_persons.add(entity_text)\n",
    "    \n",
    "    # Write distinct person names to the output file\n",
    "    for person in distinct_persons:\n",
    "        file.write(person + '\\n')\n",
    "    \n",
    "    file.write('---\\n')"
   ]
  },
  {
   "cell_type": "code",
   "execution_count": null,
   "id": "1f6bbd4d",
   "metadata": {},
   "outputs": [],
   "source": []
  }
 ],
 "metadata": {
  "kernelspec": {
   "display_name": "Python 3 (ipykernel)",
   "language": "python",
   "name": "python3"
  },
  "language_info": {
   "codemirror_mode": {
    "name": "ipython",
    "version": 3
   },
   "file_extension": ".py",
   "mimetype": "text/x-python",
   "name": "python",
   "nbconvert_exporter": "python",
   "pygments_lexer": "ipython3",
   "version": "3.9.7"
  }
 },
 "nbformat": 4,
 "nbformat_minor": 5
}
