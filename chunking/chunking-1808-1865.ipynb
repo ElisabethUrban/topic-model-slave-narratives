{
 "cells": [
  {
   "cell_type": "markdown",
   "metadata": {},
   "source": [
    "# Chunking\n",
    "\n",
    "This code was taken from Saric (https://github.com/SanjaSaric/HSA-Topics/blob/master/Chunking.ipynb)"
   ]
  },
  {
   "cell_type": "code",
   "execution_count": 1,
   "metadata": {},
   "outputs": [],
   "source": [
    "from pathlib import Path\n",
    "import os \n",
    "import re"
   ]
  },
  {
   "cell_type": "code",
   "execution_count": 2,
   "metadata": {},
   "outputs": [],
   "source": [
    "data = 'C:/Users/elisa/DH-MA/data' "
   ]
  },
  {
   "cell_type": "markdown",
   "metadata": {},
   "source": [
    "## Laden und sortieren"
   ]
  },
  {
   "cell_type": "code",
   "execution_count": 3,
   "metadata": {},
   "outputs": [],
   "source": [
    "path_to_corpus = Path(data, '1808-1865') # Ausgangspfad (wird nicht überschrieben)"
   ]
  },
  {
   "cell_type": "code",
   "execution_count": 4,
   "metadata": {},
   "outputs": [
    {
     "data": {
      "text/plain": [
       "['fpn-ball-ball.txt',\n",
       " 'fpn-brownw-brown.txt',\n",
       " 'fpn-grandy-grandy.txt',\n",
       " 'fpn-hortonlife-horton.txt',\n",
       " 'fpn-hortonpoem-hortonpoem.txt',\n",
       " 'fpn-jackson-jackson.txt',\n",
       " 'fpn-jacobs-jacobs.txt',\n",
       " 'fpn-jones-jones.txt',\n",
       " 'fpn-northup-northup.txt',\n",
       " 'fpn-roper-roper.txt',\n",
       " 'fpn-steward-steward.txt',\n",
       " 'fpn-williams-williams.txt',\n",
       " 'neh-aaron-aaron.txt',\n",
       " 'neh-adamsh-adamsh.txt',\n",
       " 'neh-aga-aga.txt',\n",
       " 'neh-allen-allen.txt',\n",
       " 'neh-allinson-allinson.txt',\n",
       " 'neh-anderson-anderson.txt',\n",
       " 'neh-andersonw-andersonw.txt',\n",
       " 'neh-armistead-armistead.txt',\n",
       " 'neh-auntjudy-auntjudy.txt',\n",
       " 'neh-ballslavery-ball.txt',\n",
       " 'neh-baquaqua-baquaqua.txt',\n",
       " 'neh-barber-barber.txt',\n",
       " 'neh-barrett-barrett.txt',\n",
       " 'neh-bayley-bayley.txt',\n",
       " 'neh-beard63-beard63.txt',\n",
       " 'neh-beardj-beard.txt',\n",
       " 'neh-bethune-bethune.txt',\n",
       " 'neh-bibb-bibb.txt',\n",
       " 'neh-black-black.txt',\n",
       " 'neh-boen-boen.txt',\n",
       " 'neh-boxbrown-boxbrown.txt',\n",
       " 'neh-brinch-brinch.txt',\n",
       " 'neh-brown47-brown47.txt',\n",
       " 'neh-brown52-brown52.txt',\n",
       " 'neh-brown55-brown55.txt',\n",
       " 'neh-brownbox-brownbox.txt',\n",
       " 'neh-brownj-brownj.txt',\n",
       " 'neh-brownrw-brownrw.txt',\n",
       " 'neh-brownww-brown.txt',\n",
       " 'neh-campbell-campbell.txt',\n",
       " 'neh-captain-captain.txt',\n",
       " 'neh-clarke-clarke.txt',\n",
       " 'neh-clarkes-clarkes.txt',\n",
       " 'neh-cox-cox.txt',\n",
       " 'neh-craft-craft.txt',\n",
       " 'neh-cugoano-cugoano.txt',\n",
       " 'neh-curry-curry.txt',\n",
       " 'neh-davisn-davis.txt',\n",
       " 'neh-detroit-detroit.txt',\n",
       " 'neh-douglass-douglass.txt',\n",
       " 'neh-douglass55-douglass55.txt',\n",
       " 'neh-drew-drew.txt',\n",
       " 'neh-edwardsj-edwardsj.txt',\n",
       " 'neh-eldridge-eldridge.txt',\n",
       " 'neh-eliza1-eliza1.txt',\n",
       " 'neh-fedric-fedric.txt',\n",
       " 'neh-ferrill-ferrill.txt',\n",
       " 'neh-fields-fields.txt',\n",
       " 'neh-gallaudet-gallaudet.txt',\n",
       " 'neh-greena-greena.txt',\n",
       " 'neh-greenjd-greenjd.txt',\n",
       " 'neh-greenw-greenw.txt',\n",
       " 'neh-grimes25-grimes25.txt',\n",
       " 'neh-grimes55-grimes55.txt',\n",
       " 'neh-griswold-griswold.txt',\n",
       " 'neh-gurley-gurley.txt',\n",
       " 'neh-hawkins-hawkins.txt',\n",
       " 'neh-hayden-hayden.txt',\n",
       " 'neh-henderson-henderson.txt',\n",
       " 'neh-henson49-henson49.txt',\n",
       " 'neh-henson58-henson58.txt',\n",
       " 'neh-heth-heth.txt',\n",
       " 'neh-hopper-hopper.txt',\n",
       " 'neh-jacksona-jacksona.txt',\n",
       " 'neh-jbrown-jbrown.txt',\n",
       " 'neh-jeajohn-jeajohn.txt',\n",
       " 'neh-jennings-jennings.txt',\n",
       " 'neh-jjacobs-jjacobs.txt',\n",
       " 'neh-jjoseph-jjoseph.txt',\n",
       " 'neh-jonestom-jones.txt',\n",
       " 'neh-joyce-joyce.txt',\n",
       " 'neh-kelley-kelley.txt',\n",
       " 'neh-lanelunsford-lane.txt',\n",
       " 'neh-leehf-leehf.txt',\n",
       " 'neh-lester-lester.txt',\n",
       " 'neh-lewisjw-lewisjw.txt',\n",
       " 'neh-loguen-loguen.txt',\n",
       " 'neh-long-long.txt',\n",
       " 'neh-manzano-manzano.txt',\n",
       " 'neh-mars64-mars64.txt',\n",
       " 'neh-mcpherson-mcpherson.txt',\n",
       " 'neh-meachum-meachum.txt',\n",
       " 'neh-millie-christine-millie-christine.txt',\n",
       " 'neh-mitchell-mitchell.txt',\n",
       " 'neh-mott26-mott26.txt',\n",
       " 'neh-nell-nell.txt',\n",
       " 'neh-offley-offley.txt',\n",
       " 'neh-parker1-parker.txt',\n",
       " 'neh-parkerh-parkerh.txt',\n",
       " 'neh-penning-penning.txt',\n",
       " 'neh-penning49-penning49.txt',\n",
       " 'neh-peterson-peterson.txt',\n",
       " 'neh-pickard-pickard.txt',\n",
       " 'neh-picquet-picquet.txt',\n",
       " 'neh-prince-prince.txt',\n",
       " 'neh-randol55-randol55.txt',\n",
       " 'neh-robert-robert.txt',\n",
       " 'neh-roberts-roberts.txt',\n",
       " 'neh-roper-roper.txt',\n",
       " 'neh-runaway-runaway.txt',\n",
       " 'neh-sally-sally.txt',\n",
       " 'neh-simpson-simpson.txt',\n",
       " 'neh-smallwood-smallwood.txt',\n",
       " 'neh-stedman-stedman.txt',\n",
       " 'neh-stevens-stevens.txt',\n",
       " 'neh-taylor-taylor.txt',\n",
       " 'neh-thatcher-thatcher.txt',\n",
       " 'neh-thompson-thompson.txt',\n",
       " 'neh-thompson1-thompson.txt',\n",
       " 'neh-tilmon-tilmon.txt',\n",
       " 'neh-troy-troy.txt',\n",
       " 'neh-truth50-truth50.txt',\n",
       " 'neh-tubbee-tubbee.txt',\n",
       " 'neh-tubbee1848-tubbee1848.txt',\n",
       " 'neh-turner-turner.txt',\n",
       " 'neh-twelvetr-twelvetr.txt',\n",
       " 'neh-upham-upham.txt',\n",
       " 'neh-vale-vale.txt',\n",
       " 'neh-wards-ward.txt',\n",
       " 'neh-warner-warner.txt',\n",
       " 'neh-watkin52-watkin52.txt',\n",
       " 'neh-watkins-watkins.txt',\n",
       " 'neh-watson-watson.txt',\n",
       " 'neh-weld-weld.txt',\n",
       " 'neh-wheatley-wheatley.txt',\n",
       " 'neh-white-white.txt',\n",
       " 'neh-whitegeo-whitegeo.txt',\n",
       " 'neh-wilkerson-wilkerson.txt',\n",
       " 'neh-williamsjames-williams.txt']"
      ]
     },
     "execution_count": 4,
     "metadata": {},
     "output_type": "execute_result"
    }
   ],
   "source": [
    "sorted(os.listdir(path=path_to_corpus))"
   ]
  },
  {
   "cell_type": "code",
   "execution_count": 6,
   "metadata": {},
   "outputs": [
    {
     "data": {
      "text/plain": [
       "['C:\\\\Users\\\\elisa\\\\DH-MA\\\\data\\\\1808-1865\\\\fpn-ball-ball.txt',\n",
       " 'C:\\\\Users\\\\elisa\\\\DH-MA\\\\data\\\\1808-1865\\\\fpn-brownw-brown.txt',\n",
       " 'C:\\\\Users\\\\elisa\\\\DH-MA\\\\data\\\\1808-1865\\\\fpn-grandy-grandy.txt',\n",
       " 'C:\\\\Users\\\\elisa\\\\DH-MA\\\\data\\\\1808-1865\\\\fpn-hortonlife-horton.txt',\n",
       " 'C:\\\\Users\\\\elisa\\\\DH-MA\\\\data\\\\1808-1865\\\\fpn-hortonpoem-hortonpoem.txt',\n",
       " 'C:\\\\Users\\\\elisa\\\\DH-MA\\\\data\\\\1808-1865\\\\fpn-jackson-jackson.txt',\n",
       " 'C:\\\\Users\\\\elisa\\\\DH-MA\\\\data\\\\1808-1865\\\\fpn-jacobs-jacobs.txt',\n",
       " 'C:\\\\Users\\\\elisa\\\\DH-MA\\\\data\\\\1808-1865\\\\fpn-jones-jones.txt',\n",
       " 'C:\\\\Users\\\\elisa\\\\DH-MA\\\\data\\\\1808-1865\\\\fpn-northup-northup.txt',\n",
       " 'C:\\\\Users\\\\elisa\\\\DH-MA\\\\data\\\\1808-1865\\\\fpn-roper-roper.txt',\n",
       " 'C:\\\\Users\\\\elisa\\\\DH-MA\\\\data\\\\1808-1865\\\\fpn-steward-steward.txt',\n",
       " 'C:\\\\Users\\\\elisa\\\\DH-MA\\\\data\\\\1808-1865\\\\fpn-williams-williams.txt',\n",
       " 'C:\\\\Users\\\\elisa\\\\DH-MA\\\\data\\\\1808-1865\\\\neh-aaron-aaron.txt',\n",
       " 'C:\\\\Users\\\\elisa\\\\DH-MA\\\\data\\\\1808-1865\\\\neh-adamsh-adamsh.txt',\n",
       " 'C:\\\\Users\\\\elisa\\\\DH-MA\\\\data\\\\1808-1865\\\\neh-aga-aga.txt',\n",
       " 'C:\\\\Users\\\\elisa\\\\DH-MA\\\\data\\\\1808-1865\\\\neh-allen-allen.txt',\n",
       " 'C:\\\\Users\\\\elisa\\\\DH-MA\\\\data\\\\1808-1865\\\\neh-allinson-allinson.txt',\n",
       " 'C:\\\\Users\\\\elisa\\\\DH-MA\\\\data\\\\1808-1865\\\\neh-anderson-anderson.txt',\n",
       " 'C:\\\\Users\\\\elisa\\\\DH-MA\\\\data\\\\1808-1865\\\\neh-andersonw-andersonw.txt',\n",
       " 'C:\\\\Users\\\\elisa\\\\DH-MA\\\\data\\\\1808-1865\\\\neh-armistead-armistead.txt',\n",
       " 'C:\\\\Users\\\\elisa\\\\DH-MA\\\\data\\\\1808-1865\\\\neh-auntjudy-auntjudy.txt',\n",
       " 'C:\\\\Users\\\\elisa\\\\DH-MA\\\\data\\\\1808-1865\\\\neh-ballslavery-ball.txt',\n",
       " 'C:\\\\Users\\\\elisa\\\\DH-MA\\\\data\\\\1808-1865\\\\neh-baquaqua-baquaqua.txt',\n",
       " 'C:\\\\Users\\\\elisa\\\\DH-MA\\\\data\\\\1808-1865\\\\neh-barber-barber.txt',\n",
       " 'C:\\\\Users\\\\elisa\\\\DH-MA\\\\data\\\\1808-1865\\\\neh-barrett-barrett.txt',\n",
       " 'C:\\\\Users\\\\elisa\\\\DH-MA\\\\data\\\\1808-1865\\\\neh-bayley-bayley.txt',\n",
       " 'C:\\\\Users\\\\elisa\\\\DH-MA\\\\data\\\\1808-1865\\\\neh-beard63-beard63.txt',\n",
       " 'C:\\\\Users\\\\elisa\\\\DH-MA\\\\data\\\\1808-1865\\\\neh-beardj-beard.txt',\n",
       " 'C:\\\\Users\\\\elisa\\\\DH-MA\\\\data\\\\1808-1865\\\\neh-bethune-bethune.txt',\n",
       " 'C:\\\\Users\\\\elisa\\\\DH-MA\\\\data\\\\1808-1865\\\\neh-bibb-bibb.txt',\n",
       " 'C:\\\\Users\\\\elisa\\\\DH-MA\\\\data\\\\1808-1865\\\\neh-black-black.txt',\n",
       " 'C:\\\\Users\\\\elisa\\\\DH-MA\\\\data\\\\1808-1865\\\\neh-boen-boen.txt',\n",
       " 'C:\\\\Users\\\\elisa\\\\DH-MA\\\\data\\\\1808-1865\\\\neh-boxbrown-boxbrown.txt',\n",
       " 'C:\\\\Users\\\\elisa\\\\DH-MA\\\\data\\\\1808-1865\\\\neh-brinch-brinch.txt',\n",
       " 'C:\\\\Users\\\\elisa\\\\DH-MA\\\\data\\\\1808-1865\\\\neh-brown47-brown47.txt',\n",
       " 'C:\\\\Users\\\\elisa\\\\DH-MA\\\\data\\\\1808-1865\\\\neh-brown52-brown52.txt',\n",
       " 'C:\\\\Users\\\\elisa\\\\DH-MA\\\\data\\\\1808-1865\\\\neh-brown55-brown55.txt',\n",
       " 'C:\\\\Users\\\\elisa\\\\DH-MA\\\\data\\\\1808-1865\\\\neh-brownbox-brownbox.txt',\n",
       " 'C:\\\\Users\\\\elisa\\\\DH-MA\\\\data\\\\1808-1865\\\\neh-brownj-brownj.txt',\n",
       " 'C:\\\\Users\\\\elisa\\\\DH-MA\\\\data\\\\1808-1865\\\\neh-brownrw-brownrw.txt',\n",
       " 'C:\\\\Users\\\\elisa\\\\DH-MA\\\\data\\\\1808-1865\\\\neh-brownww-brown.txt',\n",
       " 'C:\\\\Users\\\\elisa\\\\DH-MA\\\\data\\\\1808-1865\\\\neh-campbell-campbell.txt',\n",
       " 'C:\\\\Users\\\\elisa\\\\DH-MA\\\\data\\\\1808-1865\\\\neh-captain-captain.txt',\n",
       " 'C:\\\\Users\\\\elisa\\\\DH-MA\\\\data\\\\1808-1865\\\\neh-clarke-clarke.txt',\n",
       " 'C:\\\\Users\\\\elisa\\\\DH-MA\\\\data\\\\1808-1865\\\\neh-clarkes-clarkes.txt',\n",
       " 'C:\\\\Users\\\\elisa\\\\DH-MA\\\\data\\\\1808-1865\\\\neh-cox-cox.txt',\n",
       " 'C:\\\\Users\\\\elisa\\\\DH-MA\\\\data\\\\1808-1865\\\\neh-craft-craft.txt',\n",
       " 'C:\\\\Users\\\\elisa\\\\DH-MA\\\\data\\\\1808-1865\\\\neh-cugoano-cugoano.txt',\n",
       " 'C:\\\\Users\\\\elisa\\\\DH-MA\\\\data\\\\1808-1865\\\\neh-curry-curry.txt',\n",
       " 'C:\\\\Users\\\\elisa\\\\DH-MA\\\\data\\\\1808-1865\\\\neh-davisn-davis.txt',\n",
       " 'C:\\\\Users\\\\elisa\\\\DH-MA\\\\data\\\\1808-1865\\\\neh-detroit-detroit.txt',\n",
       " 'C:\\\\Users\\\\elisa\\\\DH-MA\\\\data\\\\1808-1865\\\\neh-douglass-douglass.txt',\n",
       " 'C:\\\\Users\\\\elisa\\\\DH-MA\\\\data\\\\1808-1865\\\\neh-douglass55-douglass55.txt',\n",
       " 'C:\\\\Users\\\\elisa\\\\DH-MA\\\\data\\\\1808-1865\\\\neh-drew-drew.txt',\n",
       " 'C:\\\\Users\\\\elisa\\\\DH-MA\\\\data\\\\1808-1865\\\\neh-edwardsj-edwardsj.txt',\n",
       " 'C:\\\\Users\\\\elisa\\\\DH-MA\\\\data\\\\1808-1865\\\\neh-eldridge-eldridge.txt',\n",
       " 'C:\\\\Users\\\\elisa\\\\DH-MA\\\\data\\\\1808-1865\\\\neh-eliza1-eliza1.txt',\n",
       " 'C:\\\\Users\\\\elisa\\\\DH-MA\\\\data\\\\1808-1865\\\\neh-fedric-fedric.txt',\n",
       " 'C:\\\\Users\\\\elisa\\\\DH-MA\\\\data\\\\1808-1865\\\\neh-ferrill-ferrill.txt',\n",
       " 'C:\\\\Users\\\\elisa\\\\DH-MA\\\\data\\\\1808-1865\\\\neh-fields-fields.txt',\n",
       " 'C:\\\\Users\\\\elisa\\\\DH-MA\\\\data\\\\1808-1865\\\\neh-gallaudet-gallaudet.txt',\n",
       " 'C:\\\\Users\\\\elisa\\\\DH-MA\\\\data\\\\1808-1865\\\\neh-greena-greena.txt',\n",
       " 'C:\\\\Users\\\\elisa\\\\DH-MA\\\\data\\\\1808-1865\\\\neh-greenjd-greenjd.txt',\n",
       " 'C:\\\\Users\\\\elisa\\\\DH-MA\\\\data\\\\1808-1865\\\\neh-greenw-greenw.txt',\n",
       " 'C:\\\\Users\\\\elisa\\\\DH-MA\\\\data\\\\1808-1865\\\\neh-grimes25-grimes25.txt',\n",
       " 'C:\\\\Users\\\\elisa\\\\DH-MA\\\\data\\\\1808-1865\\\\neh-grimes55-grimes55.txt',\n",
       " 'C:\\\\Users\\\\elisa\\\\DH-MA\\\\data\\\\1808-1865\\\\neh-griswold-griswold.txt',\n",
       " 'C:\\\\Users\\\\elisa\\\\DH-MA\\\\data\\\\1808-1865\\\\neh-gurley-gurley.txt',\n",
       " 'C:\\\\Users\\\\elisa\\\\DH-MA\\\\data\\\\1808-1865\\\\neh-hawkins-hawkins.txt',\n",
       " 'C:\\\\Users\\\\elisa\\\\DH-MA\\\\data\\\\1808-1865\\\\neh-hayden-hayden.txt',\n",
       " 'C:\\\\Users\\\\elisa\\\\DH-MA\\\\data\\\\1808-1865\\\\neh-henderson-henderson.txt',\n",
       " 'C:\\\\Users\\\\elisa\\\\DH-MA\\\\data\\\\1808-1865\\\\neh-henson49-henson49.txt',\n",
       " 'C:\\\\Users\\\\elisa\\\\DH-MA\\\\data\\\\1808-1865\\\\neh-henson58-henson58.txt',\n",
       " 'C:\\\\Users\\\\elisa\\\\DH-MA\\\\data\\\\1808-1865\\\\neh-heth-heth.txt',\n",
       " 'C:\\\\Users\\\\elisa\\\\DH-MA\\\\data\\\\1808-1865\\\\neh-hopper-hopper.txt',\n",
       " 'C:\\\\Users\\\\elisa\\\\DH-MA\\\\data\\\\1808-1865\\\\neh-jacksona-jacksona.txt',\n",
       " 'C:\\\\Users\\\\elisa\\\\DH-MA\\\\data\\\\1808-1865\\\\neh-jbrown-jbrown.txt',\n",
       " 'C:\\\\Users\\\\elisa\\\\DH-MA\\\\data\\\\1808-1865\\\\neh-jeajohn-jeajohn.txt',\n",
       " 'C:\\\\Users\\\\elisa\\\\DH-MA\\\\data\\\\1808-1865\\\\neh-jennings-jennings.txt',\n",
       " 'C:\\\\Users\\\\elisa\\\\DH-MA\\\\data\\\\1808-1865\\\\neh-jjacobs-jjacobs.txt',\n",
       " 'C:\\\\Users\\\\elisa\\\\DH-MA\\\\data\\\\1808-1865\\\\neh-jjoseph-jjoseph.txt',\n",
       " 'C:\\\\Users\\\\elisa\\\\DH-MA\\\\data\\\\1808-1865\\\\neh-jonestom-jones.txt',\n",
       " 'C:\\\\Users\\\\elisa\\\\DH-MA\\\\data\\\\1808-1865\\\\neh-joyce-joyce.txt',\n",
       " 'C:\\\\Users\\\\elisa\\\\DH-MA\\\\data\\\\1808-1865\\\\neh-kelley-kelley.txt',\n",
       " 'C:\\\\Users\\\\elisa\\\\DH-MA\\\\data\\\\1808-1865\\\\neh-lanelunsford-lane.txt',\n",
       " 'C:\\\\Users\\\\elisa\\\\DH-MA\\\\data\\\\1808-1865\\\\neh-leehf-leehf.txt',\n",
       " 'C:\\\\Users\\\\elisa\\\\DH-MA\\\\data\\\\1808-1865\\\\neh-lester-lester.txt',\n",
       " 'C:\\\\Users\\\\elisa\\\\DH-MA\\\\data\\\\1808-1865\\\\neh-lewisjw-lewisjw.txt',\n",
       " 'C:\\\\Users\\\\elisa\\\\DH-MA\\\\data\\\\1808-1865\\\\neh-loguen-loguen.txt',\n",
       " 'C:\\\\Users\\\\elisa\\\\DH-MA\\\\data\\\\1808-1865\\\\neh-long-long.txt',\n",
       " 'C:\\\\Users\\\\elisa\\\\DH-MA\\\\data\\\\1808-1865\\\\neh-manzano-manzano.txt',\n",
       " 'C:\\\\Users\\\\elisa\\\\DH-MA\\\\data\\\\1808-1865\\\\neh-mars64-mars64.txt',\n",
       " 'C:\\\\Users\\\\elisa\\\\DH-MA\\\\data\\\\1808-1865\\\\neh-mcpherson-mcpherson.txt',\n",
       " 'C:\\\\Users\\\\elisa\\\\DH-MA\\\\data\\\\1808-1865\\\\neh-meachum-meachum.txt',\n",
       " 'C:\\\\Users\\\\elisa\\\\DH-MA\\\\data\\\\1808-1865\\\\neh-millie-christine-millie-christine.txt',\n",
       " 'C:\\\\Users\\\\elisa\\\\DH-MA\\\\data\\\\1808-1865\\\\neh-mitchell-mitchell.txt',\n",
       " 'C:\\\\Users\\\\elisa\\\\DH-MA\\\\data\\\\1808-1865\\\\neh-mott26-mott26.txt',\n",
       " 'C:\\\\Users\\\\elisa\\\\DH-MA\\\\data\\\\1808-1865\\\\neh-nell-nell.txt',\n",
       " 'C:\\\\Users\\\\elisa\\\\DH-MA\\\\data\\\\1808-1865\\\\neh-offley-offley.txt',\n",
       " 'C:\\\\Users\\\\elisa\\\\DH-MA\\\\data\\\\1808-1865\\\\neh-parker1-parker.txt',\n",
       " 'C:\\\\Users\\\\elisa\\\\DH-MA\\\\data\\\\1808-1865\\\\neh-parkerh-parkerh.txt',\n",
       " 'C:\\\\Users\\\\elisa\\\\DH-MA\\\\data\\\\1808-1865\\\\neh-penning-penning.txt',\n",
       " 'C:\\\\Users\\\\elisa\\\\DH-MA\\\\data\\\\1808-1865\\\\neh-penning49-penning49.txt',\n",
       " 'C:\\\\Users\\\\elisa\\\\DH-MA\\\\data\\\\1808-1865\\\\neh-peterson-peterson.txt',\n",
       " 'C:\\\\Users\\\\elisa\\\\DH-MA\\\\data\\\\1808-1865\\\\neh-pickard-pickard.txt',\n",
       " 'C:\\\\Users\\\\elisa\\\\DH-MA\\\\data\\\\1808-1865\\\\neh-picquet-picquet.txt',\n",
       " 'C:\\\\Users\\\\elisa\\\\DH-MA\\\\data\\\\1808-1865\\\\neh-prince-prince.txt',\n",
       " 'C:\\\\Users\\\\elisa\\\\DH-MA\\\\data\\\\1808-1865\\\\neh-randol55-randol55.txt',\n",
       " 'C:\\\\Users\\\\elisa\\\\DH-MA\\\\data\\\\1808-1865\\\\neh-robert-robert.txt',\n",
       " 'C:\\\\Users\\\\elisa\\\\DH-MA\\\\data\\\\1808-1865\\\\neh-roberts-roberts.txt',\n",
       " 'C:\\\\Users\\\\elisa\\\\DH-MA\\\\data\\\\1808-1865\\\\neh-roper-roper.txt',\n",
       " 'C:\\\\Users\\\\elisa\\\\DH-MA\\\\data\\\\1808-1865\\\\neh-runaway-runaway.txt',\n",
       " 'C:\\\\Users\\\\elisa\\\\DH-MA\\\\data\\\\1808-1865\\\\neh-sally-sally.txt',\n",
       " 'C:\\\\Users\\\\elisa\\\\DH-MA\\\\data\\\\1808-1865\\\\neh-simpson-simpson.txt',\n",
       " 'C:\\\\Users\\\\elisa\\\\DH-MA\\\\data\\\\1808-1865\\\\neh-smallwood-smallwood.txt',\n",
       " 'C:\\\\Users\\\\elisa\\\\DH-MA\\\\data\\\\1808-1865\\\\neh-stedman-stedman.txt',\n",
       " 'C:\\\\Users\\\\elisa\\\\DH-MA\\\\data\\\\1808-1865\\\\neh-stevens-stevens.txt',\n",
       " 'C:\\\\Users\\\\elisa\\\\DH-MA\\\\data\\\\1808-1865\\\\neh-taylor-taylor.txt',\n",
       " 'C:\\\\Users\\\\elisa\\\\DH-MA\\\\data\\\\1808-1865\\\\neh-thatcher-thatcher.txt',\n",
       " 'C:\\\\Users\\\\elisa\\\\DH-MA\\\\data\\\\1808-1865\\\\neh-thompson-thompson.txt',\n",
       " 'C:\\\\Users\\\\elisa\\\\DH-MA\\\\data\\\\1808-1865\\\\neh-thompson1-thompson.txt',\n",
       " 'C:\\\\Users\\\\elisa\\\\DH-MA\\\\data\\\\1808-1865\\\\neh-tilmon-tilmon.txt',\n",
       " 'C:\\\\Users\\\\elisa\\\\DH-MA\\\\data\\\\1808-1865\\\\neh-troy-troy.txt',\n",
       " 'C:\\\\Users\\\\elisa\\\\DH-MA\\\\data\\\\1808-1865\\\\neh-truth50-truth50.txt',\n",
       " 'C:\\\\Users\\\\elisa\\\\DH-MA\\\\data\\\\1808-1865\\\\neh-tubbee-tubbee.txt',\n",
       " 'C:\\\\Users\\\\elisa\\\\DH-MA\\\\data\\\\1808-1865\\\\neh-tubbee1848-tubbee1848.txt',\n",
       " 'C:\\\\Users\\\\elisa\\\\DH-MA\\\\data\\\\1808-1865\\\\neh-turner-turner.txt',\n",
       " 'C:\\\\Users\\\\elisa\\\\DH-MA\\\\data\\\\1808-1865\\\\neh-twelvetr-twelvetr.txt',\n",
       " 'C:\\\\Users\\\\elisa\\\\DH-MA\\\\data\\\\1808-1865\\\\neh-upham-upham.txt',\n",
       " 'C:\\\\Users\\\\elisa\\\\DH-MA\\\\data\\\\1808-1865\\\\neh-vale-vale.txt',\n",
       " 'C:\\\\Users\\\\elisa\\\\DH-MA\\\\data\\\\1808-1865\\\\neh-wards-ward.txt',\n",
       " 'C:\\\\Users\\\\elisa\\\\DH-MA\\\\data\\\\1808-1865\\\\neh-warner-warner.txt',\n",
       " 'C:\\\\Users\\\\elisa\\\\DH-MA\\\\data\\\\1808-1865\\\\neh-watkin52-watkin52.txt',\n",
       " 'C:\\\\Users\\\\elisa\\\\DH-MA\\\\data\\\\1808-1865\\\\neh-watkins-watkins.txt',\n",
       " 'C:\\\\Users\\\\elisa\\\\DH-MA\\\\data\\\\1808-1865\\\\neh-watson-watson.txt',\n",
       " 'C:\\\\Users\\\\elisa\\\\DH-MA\\\\data\\\\1808-1865\\\\neh-weld-weld.txt',\n",
       " 'C:\\\\Users\\\\elisa\\\\DH-MA\\\\data\\\\1808-1865\\\\neh-wheatley-wheatley.txt',\n",
       " 'C:\\\\Users\\\\elisa\\\\DH-MA\\\\data\\\\1808-1865\\\\neh-white-white.txt',\n",
       " 'C:\\\\Users\\\\elisa\\\\DH-MA\\\\data\\\\1808-1865\\\\neh-whitegeo-whitegeo.txt',\n",
       " 'C:\\\\Users\\\\elisa\\\\DH-MA\\\\data\\\\1808-1865\\\\neh-wilkerson-wilkerson.txt',\n",
       " 'C:\\\\Users\\\\elisa\\\\DH-MA\\\\data\\\\1808-1865\\\\neh-williamsjames-williams.txt']"
      ]
     },
     "execution_count": 6,
     "metadata": {},
     "output_type": "execute_result"
    }
   ],
   "source": [
    "filenames = [os.path.join(path_to_corpus, fn) for fn in sorted(os.listdir(path_to_corpus))]\n",
    "filenames"
   ]
  },
  {
   "cell_type": "markdown",
   "metadata": {},
   "source": [
    "## Dokumente in chunks teilen"
   ]
  },
  {
   "cell_type": "code",
   "execution_count": 7,
   "metadata": {},
   "outputs": [],
   "source": [
    "def split_text(filename, n_words):\n",
    "    \"\"\"Split a text into chunks approximately `n_words` words in length.\"\"\"\n",
    "    input = open(filename, 'r', encoding=\"utf-8\")\n",
    "    words = \" \".join(re.sub(',|\\.|\\;|\\:|\\(|\\)|\\-','',input.read()).split()).split(' ') # remove special charachters and normalize space\n",
    "    input.close()\n",
    "    chunks = []\n",
    "    current_chunk_words = []\n",
    "    current_chunk_word_count = 0\n",
    "    for word in words:\n",
    "        current_chunk_words.append(word)\n",
    "        current_chunk_word_count += 1\n",
    "        if current_chunk_word_count == n_words:\n",
    "            chunks.append(' '.join(current_chunk_words))\n",
    "            current_chunk_words = []\n",
    "            current_chunk_word_count = 0\n",
    "    chunks.append(' '.join(current_chunk_words) )\n",
    "    return chunks"
   ]
  },
  {
   "cell_type": "code",
   "execution_count": 8,
   "metadata": {},
   "outputs": [],
   "source": [
    "filenames.sort()"
   ]
  },
  {
   "cell_type": "code",
   "execution_count": 9,
   "metadata": {},
   "outputs": [],
   "source": [
    "chunk_length = 10000\n",
    "chunks = []\n",
    "\n",
    "for filename in filenames:\n",
    "    chunk_counter = 0\n",
    "    texts = split_text(filename, chunk_length)\n",
    "    for text in texts:\n",
    "        chunk = {'text': text, 'number': chunk_counter, 'filename': filename} # make dictionary with content and information\n",
    "        chunks.append(chunk)\n",
    "        chunk_counter += 1\n",
    "        "
   ]
  },
  {
   "cell_type": "markdown",
   "metadata": {},
   "source": [
    "Anzahl der Originaldateien:"
   ]
  },
  {
   "cell_type": "code",
   "execution_count": 10,
   "metadata": {},
   "outputs": [
    {
     "data": {
      "text/plain": [
       "141"
      ]
     },
     "execution_count": 10,
     "metadata": {},
     "output_type": "execute_result"
    }
   ],
   "source": [
    "len(filenames)"
   ]
  },
  {
   "cell_type": "markdown",
   "metadata": {},
   "source": [
    "Anzahl der erzeugten chunks:"
   ]
  },
  {
   "cell_type": "code",
   "execution_count": 11,
   "metadata": {},
   "outputs": [
    {
     "data": {
      "text/plain": [
       "588"
      ]
     },
     "execution_count": 11,
     "metadata": {},
     "output_type": "execute_result"
    }
   ],
   "source": [
    "len(chunks)"
   ]
  },
  {
   "cell_type": "markdown",
   "metadata": {},
   "source": [
    "Prüfen, ob eine Originaldatei zu kurz war, um sie im Topic Modeling überhaupt zu verwenden. "
   ]
  },
  {
   "cell_type": "code",
   "execution_count": 12,
   "metadata": {},
   "outputs": [
    {
     "name": "stdout",
     "output_type": "stream",
     "text": [
      "10000 C:\\Users\\elisa\\DH-MA\\data\\1808-1865\\fpn-ball-ball.txt 0\n",
      "10000 C:\\Users\\elisa\\DH-MA\\data\\1808-1865\\fpn-brownw-brown.txt 0\n",
      "10000 C:\\Users\\elisa\\DH-MA\\data\\1808-1865\\fpn-grandy-grandy.txt 0\n",
      "3450 C:\\Users\\elisa\\DH-MA\\data\\1808-1865\\fpn-hortonlife-horton.txt 0\n",
      "10000 C:\\Users\\elisa\\DH-MA\\data\\1808-1865\\fpn-hortonpoem-hortonpoem.txt 0\n",
      "10000 C:\\Users\\elisa\\DH-MA\\data\\1808-1865\\fpn-jackson-jackson.txt 0\n",
      "10000 C:\\Users\\elisa\\DH-MA\\data\\1808-1865\\fpn-jacobs-jacobs.txt 0\n",
      "10000 C:\\Users\\elisa\\DH-MA\\data\\1808-1865\\fpn-jones-jones.txt 0\n",
      "10000 C:\\Users\\elisa\\DH-MA\\data\\1808-1865\\fpn-northup-northup.txt 0\n",
      "10000 C:\\Users\\elisa\\DH-MA\\data\\1808-1865\\fpn-roper-roper.txt 0\n",
      "10000 C:\\Users\\elisa\\DH-MA\\data\\1808-1865\\fpn-steward-steward.txt 0\n",
      "10000 C:\\Users\\elisa\\DH-MA\\data\\1808-1865\\fpn-williams-williams.txt 0\n",
      "10000 C:\\Users\\elisa\\DH-MA\\data\\1808-1865\\neh-aaron-aaron.txt 0\n",
      "10000 C:\\Users\\elisa\\DH-MA\\data\\1808-1865\\neh-adamsh-adamsh.txt 0\n",
      "8787 C:\\Users\\elisa\\DH-MA\\data\\1808-1865\\neh-aga-aga.txt 0\n",
      "10000 C:\\Users\\elisa\\DH-MA\\data\\1808-1865\\neh-allen-allen.txt 0\n",
      "7001 C:\\Users\\elisa\\DH-MA\\data\\1808-1865\\neh-allinson-allinson.txt 0\n",
      "3893 C:\\Users\\elisa\\DH-MA\\data\\1808-1865\\neh-anderson-anderson.txt 0\n",
      "10000 C:\\Users\\elisa\\DH-MA\\data\\1808-1865\\neh-andersonw-andersonw.txt 0\n",
      "10000 C:\\Users\\elisa\\DH-MA\\data\\1808-1865\\neh-armistead-armistead.txt 0\n",
      "7318 C:\\Users\\elisa\\DH-MA\\data\\1808-1865\\neh-auntjudy-auntjudy.txt 0\n",
      "10000 C:\\Users\\elisa\\DH-MA\\data\\1808-1865\\neh-ballslavery-ball.txt 0\n",
      "10000 C:\\Users\\elisa\\DH-MA\\data\\1808-1865\\neh-baquaqua-baquaqua.txt 0\n",
      "10000 C:\\Users\\elisa\\DH-MA\\data\\1808-1865\\neh-barber-barber.txt 0\n",
      "5700 C:\\Users\\elisa\\DH-MA\\data\\1808-1865\\neh-barrett-barrett.txt 0\n",
      "10000 C:\\Users\\elisa\\DH-MA\\data\\1808-1865\\neh-bayley-bayley.txt 0\n",
      "10000 C:\\Users\\elisa\\DH-MA\\data\\1808-1865\\neh-beard63-beard63.txt 0\n",
      "10000 C:\\Users\\elisa\\DH-MA\\data\\1808-1865\\neh-beardj-beard.txt 0\n",
      "1462 C:\\Users\\elisa\\DH-MA\\data\\1808-1865\\neh-bethune-bethune.txt 0\n",
      "10000 C:\\Users\\elisa\\DH-MA\\data\\1808-1865\\neh-bibb-bibb.txt 0\n",
      "9905 C:\\Users\\elisa\\DH-MA\\data\\1808-1865\\neh-black-black.txt 0\n",
      "4601 C:\\Users\\elisa\\DH-MA\\data\\1808-1865\\neh-boen-boen.txt 0\n",
      "10000 C:\\Users\\elisa\\DH-MA\\data\\1808-1865\\neh-boxbrown-boxbrown.txt 0\n",
      "10000 C:\\Users\\elisa\\DH-MA\\data\\1808-1865\\neh-brinch-brinch.txt 0\n",
      "10000 C:\\Users\\elisa\\DH-MA\\data\\1808-1865\\neh-brown47-brown47.txt 0\n",
      "10000 C:\\Users\\elisa\\DH-MA\\data\\1808-1865\\neh-brown52-brown52.txt 0\n",
      "10000 C:\\Users\\elisa\\DH-MA\\data\\1808-1865\\neh-brown55-brown55.txt 0\n",
      "10000 C:\\Users\\elisa\\DH-MA\\data\\1808-1865\\neh-brownbox-brownbox.txt 0\n",
      "10000 C:\\Users\\elisa\\DH-MA\\data\\1808-1865\\neh-brownj-brownj.txt 0\n",
      "10000 C:\\Users\\elisa\\DH-MA\\data\\1808-1865\\neh-brownrw-brownrw.txt 0\n",
      "10000 C:\\Users\\elisa\\DH-MA\\data\\1808-1865\\neh-brownww-brown.txt 0\n",
      "10000 C:\\Users\\elisa\\DH-MA\\data\\1808-1865\\neh-campbell-campbell.txt 0\n",
      "6760 C:\\Users\\elisa\\DH-MA\\data\\1808-1865\\neh-captain-captain.txt 0\n",
      "10000 C:\\Users\\elisa\\DH-MA\\data\\1808-1865\\neh-clarke-clarke.txt 0\n",
      "10000 C:\\Users\\elisa\\DH-MA\\data\\1808-1865\\neh-clarkes-clarkes.txt 0\n",
      "9592 C:\\Users\\elisa\\DH-MA\\data\\1808-1865\\neh-cox-cox.txt 0\n",
      "10000 C:\\Users\\elisa\\DH-MA\\data\\1808-1865\\neh-craft-craft.txt 0\n",
      "2319 C:\\Users\\elisa\\DH-MA\\data\\1808-1865\\neh-cugoano-cugoano.txt 0\n",
      "8120 C:\\Users\\elisa\\DH-MA\\data\\1808-1865\\neh-curry-curry.txt 0\n",
      "10000 C:\\Users\\elisa\\DH-MA\\data\\1808-1865\\neh-davisn-davis.txt 0\n",
      "10000 C:\\Users\\elisa\\DH-MA\\data\\1808-1865\\neh-detroit-detroit.txt 0\n",
      "10000 C:\\Users\\elisa\\DH-MA\\data\\1808-1865\\neh-douglass-douglass.txt 0\n",
      "10000 C:\\Users\\elisa\\DH-MA\\data\\1808-1865\\neh-douglass55-douglass55.txt 0\n",
      "10000 C:\\Users\\elisa\\DH-MA\\data\\1808-1865\\neh-drew-drew.txt 0\n",
      "10000 C:\\Users\\elisa\\DH-MA\\data\\1808-1865\\neh-edwardsj-edwardsj.txt 0\n",
      "10000 C:\\Users\\elisa\\DH-MA\\data\\1808-1865\\neh-eldridge-eldridge.txt 0\n",
      "4309 C:\\Users\\elisa\\DH-MA\\data\\1808-1865\\neh-eliza1-eliza1.txt 0\n",
      "10000 C:\\Users\\elisa\\DH-MA\\data\\1808-1865\\neh-fedric-fedric.txt 0\n",
      "4459 C:\\Users\\elisa\\DH-MA\\data\\1808-1865\\neh-ferrill-ferrill.txt 0\n",
      "10000 C:\\Users\\elisa\\DH-MA\\data\\1808-1865\\neh-fields-fields.txt 0\n",
      "2605 C:\\Users\\elisa\\DH-MA\\data\\1808-1865\\neh-gallaudet-gallaudet.txt 0\n",
      "10000 C:\\Users\\elisa\\DH-MA\\data\\1808-1865\\neh-greena-greena.txt 0\n",
      "10000 C:\\Users\\elisa\\DH-MA\\data\\1808-1865\\neh-greenjd-greenjd.txt 0\n",
      "8209 C:\\Users\\elisa\\DH-MA\\data\\1808-1865\\neh-greenw-greenw.txt 0\n",
      "10000 C:\\Users\\elisa\\DH-MA\\data\\1808-1865\\neh-grimes25-grimes25.txt 0\n",
      "10000 C:\\Users\\elisa\\DH-MA\\data\\1808-1865\\neh-grimes55-grimes55.txt 0\n",
      "2317 C:\\Users\\elisa\\DH-MA\\data\\1808-1865\\neh-griswold-griswold.txt 0\n",
      "6949 C:\\Users\\elisa\\DH-MA\\data\\1808-1865\\neh-gurley-gurley.txt 0\n",
      "10000 C:\\Users\\elisa\\DH-MA\\data\\1808-1865\\neh-hawkins-hawkins.txt 0\n",
      "10000 C:\\Users\\elisa\\DH-MA\\data\\1808-1865\\neh-hayden-hayden.txt 0\n",
      "10000 C:\\Users\\elisa\\DH-MA\\data\\1808-1865\\neh-henderson-henderson.txt 0\n",
      "10000 C:\\Users\\elisa\\DH-MA\\data\\1808-1865\\neh-henson49-henson49.txt 0\n",
      "10000 C:\\Users\\elisa\\DH-MA\\data\\1808-1865\\neh-henson58-henson58.txt 0\n",
      "2256 C:\\Users\\elisa\\DH-MA\\data\\1808-1865\\neh-heth-heth.txt 0\n",
      "4001 C:\\Users\\elisa\\DH-MA\\data\\1808-1865\\neh-hopper-hopper.txt 0\n",
      "10000 C:\\Users\\elisa\\DH-MA\\data\\1808-1865\\neh-jacksona-jacksona.txt 0\n",
      "10000 C:\\Users\\elisa\\DH-MA\\data\\1808-1865\\neh-jbrown-jbrown.txt 0\n",
      "10000 C:\\Users\\elisa\\DH-MA\\data\\1808-1865\\neh-jeajohn-jeajohn.txt 0\n",
      "2775 C:\\Users\\elisa\\DH-MA\\data\\1808-1865\\neh-jennings-jennings.txt 0\n",
      "10000 C:\\Users\\elisa\\DH-MA\\data\\1808-1865\\neh-jjacobs-jjacobs.txt 0\n",
      "3686 C:\\Users\\elisa\\DH-MA\\data\\1808-1865\\neh-jjoseph-jjoseph.txt 0\n",
      "10000 C:\\Users\\elisa\\DH-MA\\data\\1808-1865\\neh-jonestom-jones.txt 0\n",
      "10000 C:\\Users\\elisa\\DH-MA\\data\\1808-1865\\neh-joyce-joyce.txt 0\n",
      "6468 C:\\Users\\elisa\\DH-MA\\data\\1808-1865\\neh-kelley-kelley.txt 0\n",
      "10000 C:\\Users\\elisa\\DH-MA\\data\\1808-1865\\neh-lanelunsford-lane.txt 0\n",
      "10000 C:\\Users\\elisa\\DH-MA\\data\\1808-1865\\neh-leehf-leehf.txt 0\n",
      "10000 C:\\Users\\elisa\\DH-MA\\data\\1808-1865\\neh-lester-lester.txt 0\n",
      "10000 C:\\Users\\elisa\\DH-MA\\data\\1808-1865\\neh-lewisjw-lewisjw.txt 0\n",
      "10000 C:\\Users\\elisa\\DH-MA\\data\\1808-1865\\neh-loguen-loguen.txt 0\n",
      "10000 C:\\Users\\elisa\\DH-MA\\data\\1808-1865\\neh-long-long.txt 0\n",
      "10000 C:\\Users\\elisa\\DH-MA\\data\\1808-1865\\neh-manzano-manzano.txt 0\n",
      "9671 C:\\Users\\elisa\\DH-MA\\data\\1808-1865\\neh-mars64-mars64.txt 0\n",
      "10000 C:\\Users\\elisa\\DH-MA\\data\\1808-1865\\neh-mcpherson-mcpherson.txt 0\n",
      "10000 C:\\Users\\elisa\\DH-MA\\data\\1808-1865\\neh-meachum-meachum.txt 0\n",
      "3315 C:\\Users\\elisa\\DH-MA\\data\\1808-1865\\neh-millie-christine-millie-christine.txt 0\n",
      "10000 C:\\Users\\elisa\\DH-MA\\data\\1808-1865\\neh-mitchell-mitchell.txt 0\n",
      "10000 C:\\Users\\elisa\\DH-MA\\data\\1808-1865\\neh-mott26-mott26.txt 0\n",
      "10000 C:\\Users\\elisa\\DH-MA\\data\\1808-1865\\neh-nell-nell.txt 0\n",
      "3623 C:\\Users\\elisa\\DH-MA\\data\\1808-1865\\neh-offley-offley.txt 0\n",
      "10000 C:\\Users\\elisa\\DH-MA\\data\\1808-1865\\neh-parker1-parker.txt 0\n",
      "2548 C:\\Users\\elisa\\DH-MA\\data\\1808-1865\\neh-parkerh-parkerh.txt 0\n",
      "10000 C:\\Users\\elisa\\DH-MA\\data\\1808-1865\\neh-penning-penning.txt 0\n",
      "10000 C:\\Users\\elisa\\DH-MA\\data\\1808-1865\\neh-penning49-penning49.txt 0\n",
      "10000 C:\\Users\\elisa\\DH-MA\\data\\1808-1865\\neh-peterson-peterson.txt 0\n",
      "10000 C:\\Users\\elisa\\DH-MA\\data\\1808-1865\\neh-pickard-pickard.txt 0\n",
      "10000 C:\\Users\\elisa\\DH-MA\\data\\1808-1865\\neh-picquet-picquet.txt 0\n",
      "10000 C:\\Users\\elisa\\DH-MA\\data\\1808-1865\\neh-prince-prince.txt 0\n",
      "10000 C:\\Users\\elisa\\DH-MA\\data\\1808-1865\\neh-randol55-randol55.txt 0\n",
      "10000 C:\\Users\\elisa\\DH-MA\\data\\1808-1865\\neh-robert-robert.txt 0\n",
      "10000 C:\\Users\\elisa\\DH-MA\\data\\1808-1865\\neh-roberts-roberts.txt 0\n",
      "10000 C:\\Users\\elisa\\DH-MA\\data\\1808-1865\\neh-roper-roper.txt 0\n",
      "10000 C:\\Users\\elisa\\DH-MA\\data\\1808-1865\\neh-runaway-runaway.txt 0\n",
      "10000 C:\\Users\\elisa\\DH-MA\\data\\1808-1865\\neh-sally-sally.txt 0\n",
      "10000 C:\\Users\\elisa\\DH-MA\\data\\1808-1865\\neh-simpson-simpson.txt 0\n",
      "10000 C:\\Users\\elisa\\DH-MA\\data\\1808-1865\\neh-smallwood-smallwood.txt 0\n",
      "10000 C:\\Users\\elisa\\DH-MA\\data\\1808-1865\\neh-stedman-stedman.txt 0\n",
      "10000 C:\\Users\\elisa\\DH-MA\\data\\1808-1865\\neh-stevens-stevens.txt 0\n",
      "10000 C:\\Users\\elisa\\DH-MA\\data\\1808-1865\\neh-taylor-taylor.txt 0\n",
      "6832 C:\\Users\\elisa\\DH-MA\\data\\1808-1865\\neh-thatcher-thatcher.txt 0\n",
      "10000 C:\\Users\\elisa\\DH-MA\\data\\1808-1865\\neh-thompson-thompson.txt 0\n",
      "10000 C:\\Users\\elisa\\DH-MA\\data\\1808-1865\\neh-thompson1-thompson.txt 0\n",
      "10000 C:\\Users\\elisa\\DH-MA\\data\\1808-1865\\neh-tilmon-tilmon.txt 0\n",
      "10000 C:\\Users\\elisa\\DH-MA\\data\\1808-1865\\neh-troy-troy.txt 0\n",
      "10000 C:\\Users\\elisa\\DH-MA\\data\\1808-1865\\neh-truth50-truth50.txt 0\n",
      "10000 C:\\Users\\elisa\\DH-MA\\data\\1808-1865\\neh-tubbee-tubbee.txt 0\n",
      "10000 C:\\Users\\elisa\\DH-MA\\data\\1808-1865\\neh-tubbee1848-tubbee1848.txt 0\n",
      "8444 C:\\Users\\elisa\\DH-MA\\data\\1808-1865\\neh-turner-turner.txt 0\n"
     ]
    },
    {
     "name": "stdout",
     "output_type": "stream",
     "text": [
      "10000 C:\\Users\\elisa\\DH-MA\\data\\1808-1865\\neh-twelvetr-twelvetr.txt 0\n",
      "2723 C:\\Users\\elisa\\DH-MA\\data\\1808-1865\\neh-upham-upham.txt 0\n",
      "10000 C:\\Users\\elisa\\DH-MA\\data\\1808-1865\\neh-vale-vale.txt 0\n",
      "10000 C:\\Users\\elisa\\DH-MA\\data\\1808-1865\\neh-wards-ward.txt 0\n",
      "10000 C:\\Users\\elisa\\DH-MA\\data\\1808-1865\\neh-warner-warner.txt 0\n",
      "10000 C:\\Users\\elisa\\DH-MA\\data\\1808-1865\\neh-watkin52-watkin52.txt 0\n",
      "10000 C:\\Users\\elisa\\DH-MA\\data\\1808-1865\\neh-watkins-watkins.txt 0\n",
      "10000 C:\\Users\\elisa\\DH-MA\\data\\1808-1865\\neh-watson-watson.txt 0\n",
      "10000 C:\\Users\\elisa\\DH-MA\\data\\1808-1865\\neh-weld-weld.txt 0\n",
      "10000 C:\\Users\\elisa\\DH-MA\\data\\1808-1865\\neh-wheatley-wheatley.txt 0\n",
      "10000 C:\\Users\\elisa\\DH-MA\\data\\1808-1865\\neh-white-white.txt 0\n",
      "10000 C:\\Users\\elisa\\DH-MA\\data\\1808-1865\\neh-whitegeo-whitegeo.txt 0\n",
      "10000 C:\\Users\\elisa\\DH-MA\\data\\1808-1865\\neh-wilkerson-wilkerson.txt 0\n",
      "10000 C:\\Users\\elisa\\DH-MA\\data\\1808-1865\\neh-williamsjames-williams.txt 0\n",
      "Anzahl der Dateien, die du entfernen solltest:  141\n"
     ]
    }
   ],
   "source": [
    "i = 0\n",
    "for chunk in chunks:\n",
    "    l_chunk = len(chunk['text'].split(' '))\n",
    "    if l_chunk < 23000 and chunk['number'] == 0:\n",
    "        i+=1\n",
    "        print(l_chunk, chunk['filename'],chunk['number'])\n",
    "print('Anzahl der Dateien, die du entfernen solltest: ', i)"
   ]
  },
  {
   "cell_type": "markdown",
   "metadata": {},
   "source": [
    "Hatte eine Datei beispielsweise 110 Tokens, werden 2 chunks produziert: <br>\n",
    "1) mit 100 Tokens <br>\n",
    "2) mit 10 Tokens. <br>\n",
    "Wir möchten diese kurzen chunks ihren vorhergehenden Geschwisterdateien hinzufügen.  "
   ]
  },
  {
   "cell_type": "code",
   "execution_count": 13,
   "metadata": {},
   "outputs": [
    {
     "name": "stdout",
     "output_type": "stream",
     "text": [
      "Chunk C:\\Users\\elisa\\DH-MA\\data\\1808-1865\\fpn-northup-northup.txt7 erweitert mit chunk 8 auf dem Index 41\n",
      "Chunk C:\\Users\\elisa\\DH-MA\\data\\1808-1865\\fpn-steward-steward.txt7 erweitert mit chunk 8 auf dem Index 52\n",
      "Chunk C:\\Users\\elisa\\DH-MA\\data\\1808-1865\\neh-adamsh-adamsh.txt7 erweitert mit chunk 8 auf dem Index 67\n",
      "Chunk C:\\Users\\elisa\\DH-MA\\data\\1808-1865\\neh-allen-allen.txt1 erweitert mit chunk 2 auf dem Index 71\n",
      "Chunk C:\\Users\\elisa\\DH-MA\\data\\1808-1865\\neh-andersonw-andersonw.txt1 erweitert mit chunk 2 auf dem Index 76\n",
      "Chunk C:\\Users\\elisa\\DH-MA\\data\\1808-1865\\neh-barber-barber.txt1 erweitert mit chunk 2 auf dem Index 117\n",
      "Chunk C:\\Users\\elisa\\DH-MA\\data\\1808-1865\\neh-bayley-bayley.txt0 erweitert mit chunk 1 auf dem Index 120\n",
      "Chunk C:\\Users\\elisa\\DH-MA\\data\\1808-1865\\neh-beard63-beard63.txt11 erweitert mit chunk 12 auf dem Index 133\n",
      "Chunk C:\\Users\\elisa\\DH-MA\\data\\1808-1865\\neh-beardj-beard.txt11 erweitert mit chunk 12 auf dem Index 146\n",
      "Chunk C:\\Users\\elisa\\DH-MA\\data\\1808-1865\\neh-brown47-brown47.txt1 erweitert mit chunk 2 auf dem Index 165\n",
      "Chunk C:\\Users\\elisa\\DH-MA\\data\\1808-1865\\neh-brownbox-brownbox.txt1 erweitert mit chunk 2 auf dem Index 183\n",
      "Chunk C:\\Users\\elisa\\DH-MA\\data\\1808-1865\\neh-brownrw-brownrw.txt0 erweitert mit chunk 1 auf dem Index 188\n",
      "Chunk C:\\Users\\elisa\\DH-MA\\data\\1808-1865\\neh-campbell-campbell.txt7 erweitert mit chunk 8 auf dem Index 205\n",
      "Chunk C:\\Users\\elisa\\DH-MA\\data\\1808-1865\\neh-clarke-clarke.txt2 erweitert mit chunk 3 auf dem Index 210\n",
      "Chunk C:\\Users\\elisa\\DH-MA\\data\\1808-1865\\neh-douglass-douglass.txt3 erweitert mit chunk 4 auf dem Index 229\n",
      "Chunk C:\\Users\\elisa\\DH-MA\\data\\1808-1865\\neh-drew-drew.txt11 erweitert mit chunk 12 auf dem Index 256\n",
      "Chunk C:\\Users\\elisa\\DH-MA\\data\\1808-1865\\neh-eldridge-eldridge.txt1 erweitert mit chunk 2 auf dem Index 269\n",
      "Chunk C:\\Users\\elisa\\DH-MA\\data\\1808-1865\\neh-fields-fields.txt0 erweitert mit chunk 1 auf dem Index 276\n",
      "Chunk C:\\Users\\elisa\\DH-MA\\data\\1808-1865\\neh-greena-greena.txt2 erweitert mit chunk 3 auf dem Index 281\n",
      "Chunk C:\\Users\\elisa\\DH-MA\\data\\1808-1865\\neh-greenjd-greenjd.txt1 erweitert mit chunk 2 auf dem Index 284\n",
      "Chunk C:\\Users\\elisa\\DH-MA\\data\\1808-1865\\neh-grimes25-grimes25.txt2 erweitert mit chunk 3 auf dem Index 289\n",
      "Chunk C:\\Users\\elisa\\DH-MA\\data\\1808-1865\\neh-hawkins-hawkins.txt7 erweitert mit chunk 8 auf dem Index 304\n",
      "Chunk C:\\Users\\elisa\\DH-MA\\data\\1808-1865\\neh-hayden-hayden.txt4 erweitert mit chunk 5 auf dem Index 310\n",
      "Chunk C:\\Users\\elisa\\DH-MA\\data\\1808-1865\\neh-henderson-henderson.txt5 erweitert mit chunk 6 auf dem Index 317\n",
      "Chunk C:\\Users\\elisa\\DH-MA\\data\\1808-1865\\neh-henson49-henson49.txt1 erweitert mit chunk 2 auf dem Index 320\n",
      "Chunk C:\\Users\\elisa\\DH-MA\\data\\1808-1865\\neh-jjacobs-jjacobs.txt0 erweitert mit chunk 1 auf dem Index 344\n",
      "Chunk C:\\Users\\elisa\\DH-MA\\data\\1808-1865\\neh-joyce-joyce.txt0 erweitert mit chunk 1 auf dem Index 349\n",
      "Chunk C:\\Users\\elisa\\DH-MA\\data\\1808-1865\\neh-leehf-leehf.txt1 erweitert mit chunk 2 auf dem Index 355\n",
      "Chunk C:\\Users\\elisa\\DH-MA\\data\\1808-1865\\neh-loguen-loguen.txt11 erweitert mit chunk 12 auf dem Index 383\n",
      "Chunk C:\\Users\\elisa\\DH-MA\\data\\1808-1865\\neh-manzano-manzano.txt4 erweitert mit chunk 5 auf dem Index 398\n",
      "Chunk C:\\Users\\elisa\\DH-MA\\data\\1808-1865\\neh-nell-nell.txt9 erweitert mit chunk 10 auf dem Index 424\n",
      "Chunk C:\\Users\\elisa\\DH-MA\\data\\1808-1865\\neh-penning-penning.txt2 erweitert mit chunk 3 auf dem Index 433\n",
      "Chunk C:\\Users\\elisa\\DH-MA\\data\\1808-1865\\neh-penning49-penning49.txt2 erweitert mit chunk 3 auf dem Index 437\n",
      "Chunk C:\\Users\\elisa\\DH-MA\\data\\1808-1865\\neh-picquet-picquet.txt1 erweitert mit chunk 2 auf dem Index 454\n",
      "Chunk C:\\Users\\elisa\\DH-MA\\data\\1808-1865\\neh-randol55-randol55.txt0 erweitert mit chunk 1 auf dem Index 459\n",
      "Chunk C:\\Users\\elisa\\DH-MA\\data\\1808-1865\\neh-robert-robert.txt0 erweitert mit chunk 1 auf dem Index 461\n",
      "Chunk C:\\Users\\elisa\\DH-MA\\data\\1808-1865\\neh-roper-roper.txt1 erweitert mit chunk 2 auf dem Index 466\n",
      "Chunk C:\\Users\\elisa\\DH-MA\\data\\1808-1865\\neh-sally-sally.txt3 erweitert mit chunk 4 auf dem Index 473\n",
      "Chunk C:\\Users\\elisa\\DH-MA\\data\\1808-1865\\neh-simpson-simpson.txt1 erweitert mit chunk 2 auf dem Index 476\n",
      "Chunk C:\\Users\\elisa\\DH-MA\\data\\1808-1865\\neh-smallwood-smallwood.txt1 erweitert mit chunk 2 auf dem Index 479\n",
      "Chunk C:\\Users\\elisa\\DH-MA\\data\\1808-1865\\neh-stedman-stedman.txt0 erweitert mit chunk 1 auf dem Index 481\n",
      "Chunk C:\\Users\\elisa\\DH-MA\\data\\1808-1865\\neh-stevens-stevens.txt6 erweitert mit chunk 7 auf dem Index 489\n",
      "Chunk C:\\Users\\elisa\\DH-MA\\data\\1808-1865\\neh-taylor-taylor.txt1 erweitert mit chunk 2 auf dem Index 492\n",
      "Chunk C:\\Users\\elisa\\DH-MA\\data\\1808-1865\\neh-warner-warner.txt2 erweitert mit chunk 3 auf dem Index 546\n",
      "Chunk C:\\Users\\elisa\\DH-MA\\data\\1808-1865\\neh-wheatley-wheatley.txt1 erweitert mit chunk 2 auf dem Index 578\n",
      "Chunk C:\\Users\\elisa\\DH-MA\\data\\1808-1865\\neh-white-white.txt1 erweitert mit chunk 2 auf dem Index 581\n",
      "Chunk C:\\Users\\elisa\\DH-MA\\data\\1808-1865\\neh-williamsjames-williams.txt0 erweitert mit chunk 1 auf dem Index 587\n",
      "Anzahl der erweiterten chunks: 47\n"
     ]
    }
   ],
   "source": [
    "i = 0\n",
    "for chunk in chunks:\n",
    "    index = chunks.index(chunk)\n",
    "    l_chunk = len(chunk['text'].split(' '))\n",
    "    if l_chunk < 3000 and chunk['number'] != 0:\n",
    "        i+=1\n",
    "        chunks[index-1]['text'] = chunks[index-1]['text'] + ' ' + chunk['text']\n",
    "        print('Chunk ' + chunk['filename'] + str(chunk['number']-1) + ' erweitert mit chunk ' + str(chunk['number']) + ' auf dem Index ' + str(index))\n",
    "        \n",
    "print('Anzahl der erweiterten chunks: ' + str(i))"
   ]
  },
  {
   "cell_type": "code",
   "execution_count": 14,
   "metadata": {},
   "outputs": [],
   "source": [
    "#chunks"
   ]
  },
  {
   "cell_type": "markdown",
   "metadata": {},
   "source": [
    "Nun können diejenigen chunks, die bereits zu ihren Geschwisterdateien kopiert wurden, sowie diejenigen chunks, die sehr kurz waren und keine Geschwister hatten (= kurze Originalfiles) gelöscht werden."
   ]
  },
  {
   "cell_type": "code",
   "execution_count": 15,
   "metadata": {},
   "outputs": [
    {
     "name": "stdout",
     "output_type": "stream",
     "text": [
      "Gelöschte chunks: 53\n"
     ]
    }
   ],
   "source": [
    "i = 0\n",
    "for chunk in chunks:\n",
    "    index = chunks.index(chunk)\n",
    "    l_chunk = len(chunk['text'].split(' '))\n",
    "    if l_chunk < 3000:\n",
    "        i+=1\n",
    "        chunks.remove(chunk)\n",
    "        \n",
    "print('Gelöschte chunks: ' + str(i))"
   ]
  },
  {
   "cell_type": "code",
   "execution_count": 17,
   "metadata": {},
   "outputs": [
    {
     "name": "stdout",
     "output_type": "stream",
     "text": [
      "Übriggebliebene: 535\n"
     ]
    }
   ],
   "source": [
    "print('Übriggebliebene: ' + str(len(chunks)))"
   ]
  },
  {
   "cell_type": "markdown",
   "metadata": {},
   "source": [
    "## chunks zu Textdateien speichern"
   ]
  },
  {
   "cell_type": "code",
   "execution_count": 18,
   "metadata": {},
   "outputs": [],
   "source": [
    "output_dir = 'C:/Users/elisa/DH-MA/data/1808-1865-chunks'"
   ]
  },
  {
   "cell_type": "code",
   "execution_count": 19,
   "metadata": {},
   "outputs": [],
   "source": [
    "\"\"\" Quelle für Code: DARIAH-DE (https://liferay.de.dariah.eu/tatom/index.html)\n",
    "    for chunk in chunks:\n",
    "    basename = os.path.basename(chunk['filename'])\n",
    "    fn = os.path.join(output_dir, \"{}{:04d}\".format(basename, chunk['number']))\n",
    "    with open(fn, 'w', encoding='utf-8') as f:\n",
    "        f.write(chunk['text'])\n",
    "\"\"\"\n",
    "# umgeändert, sodass valide txt-Dateien als output kommen\n",
    "for chunk in chunks:\n",
    "    basename = os.path.basename(chunk['filename'])\n",
    "    fn_base, fn_ext = os.path.splitext(basename)\n",
    "    fn = os.path.join(output_dir, \"{}_{:04d}{}\".format(fn_base, chunk['number'], fn_ext))\n",
    "    with open(fn, 'w', encoding='utf-8') as f:\n",
    "        f.write(chunk['text'])"
   ]
  },
  {
   "cell_type": "markdown",
   "metadata": {},
   "source": [
    "Testen, ob kurze Dateien übriggeblieben sind:"
   ]
  },
  {
   "cell_type": "code",
   "execution_count": 20,
   "metadata": {},
   "outputs": [
    {
     "name": "stdout",
     "output_type": "stream",
     "text": [
      "neh-bethune-bethune_0000.txt\n",
      "neh-gallaudet-gallaudet_0000.txt\n",
      "Übriggebliebene kurze Files:  2\n"
     ]
    }
   ],
   "source": [
    "# Test if short files remained\n",
    "i = 0\n",
    "for chunkfile in Path(data, output_dir).glob('*.txt'):\n",
    "    with open(chunkfile, encoding='utf-8') as f:\n",
    "        text = f.read().split(' ')\n",
    "        #print(len(text))\n",
    "        if len(text) < 3000:\n",
    "            i+=1\n",
    "            print(chunkfile.name)\n",
    "print('Übriggebliebene kurze Files: ', i)"
   ]
  },
  {
   "cell_type": "markdown",
   "metadata": {},
   "source": [
    "Wenn ja, dann sollten diese auch manuell entfernt oder zu Geschwisterdateien hinzugefügt werden.\n"
   ]
  },
  {
   "cell_type": "code",
   "execution_count": null,
   "metadata": {},
   "outputs": [],
   "source": []
  }
 ],
 "metadata": {
  "kernelspec": {
   "display_name": "Python 3 (ipykernel)",
   "language": "python",
   "name": "python3"
  },
  "language_info": {
   "codemirror_mode": {
    "name": "ipython",
    "version": 3
   },
   "file_extension": ".py",
   "mimetype": "text/x-python",
   "name": "python",
   "nbconvert_exporter": "python",
   "pygments_lexer": "ipython3",
   "version": "3.9.7"
  }
 },
 "nbformat": 4,
 "nbformat_minor": 2
}
