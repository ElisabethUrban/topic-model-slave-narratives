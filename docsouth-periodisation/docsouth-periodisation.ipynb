{
 "cells": [
  {
   "cell_type": "code",
   "execution_count": 9,
   "id": "9efa1424",
   "metadata": {},
   "outputs": [],
   "source": [
    "import os\n",
    "import shutil\n",
    "import pandas as pd"
   ]
  },
  {
   "cell_type": "code",
   "execution_count": 10,
   "id": "639f5307",
   "metadata": {},
   "outputs": [],
   "source": [
    "# Read publication dates from CSV\n",
    "dates_df = pd.read_csv('toc.csv')"
   ]
  },
  {
   "cell_type": "code",
   "execution_count": 11,
   "id": "65884c32",
   "metadata": {},
   "outputs": [],
   "source": [
    "# Define folder names\n",
    "antebellum1 = '1734-1798'\n",
    "antebellum2 = '1808-1865'\n",
    "postbellum = '1866-1929'"
   ]
  },
  {
   "cell_type": "code",
   "execution_count": 12,
   "id": "e345a11f",
   "metadata": {},
   "outputs": [],
   "source": [
    "# Loop through text files\n",
    "for filename in os.listdir('texts'):\n",
    "    if filename.endswith('.txt'):\n",
    "        matching_row = dates_df[dates_df['filename'] == filename]\n",
    "        \n",
    "        if len(matching_row) == 0:\n",
    "            print(f\"No data found for '{filename}' in the CSV.\")\n",
    "            continue\n",
    "        \n",
    "        date = int(matching_row['date'].values[0])\n",
    "        \n",
    "        if date < 1799:\n",
    "            destination = antebellum1\n",
    "        elif date >= 1799 and date <= 1865:\n",
    "            destination = antebellum2\n",
    "        else:\n",
    "            destination = postbellum\n",
    "        \n",
    "        source_path = os.path.join('texts', filename)\n",
    "        destination_path = os.path.join(destination, filename)\n",
    "        \n",
    "        shutil.move(source_path, destination_path)"
   ]
  }
 ],
 "metadata": {
  "kernelspec": {
   "display_name": "Python 3 (ipykernel)",
   "language": "python",
   "name": "python3"
  },
  "language_info": {
   "codemirror_mode": {
    "name": "ipython",
    "version": 3
   },
   "file_extension": ".py",
   "mimetype": "text/x-python",
   "name": "python",
   "nbconvert_exporter": "python",
   "pygments_lexer": "ipython3",
   "version": "3.9.7"
  }
 },
 "nbformat": 4,
 "nbformat_minor": 5
}
